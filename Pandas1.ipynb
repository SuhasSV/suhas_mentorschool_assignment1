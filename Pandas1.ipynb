{
  "metadata": {
    "kernelspec": {
      "name": "python36",
      "display_name": "Python 3.6",
      "language": "python"
    },
    "language_info": {
      "mimetype": "text/x-python",
      "nbconvert_exporter": "python",
      "name": "python",
      "pygments_lexer": "ipython3",
      "version": "3.6.6",
      "file_extension": ".py",
      "codemirror_mode": {
        "version": 3,
        "name": "ipython"
      }
    }
  },
  "nbformat_minor": 2,
  "nbformat": 4,
  "cells": [
    {
      "cell_type": "markdown",
      "source": "## Objectives\n* Solve some real world questions related to IPL 2018 using numpy and pandas functions and structure\n\n### What do you need to solve the questions?\n* Understanding of functions belonging to pandas library : \n  * How to read data from a URL\n  * What is a dataframe? What is a Series?\n  * How to read rows and columns from a dataframe\n  * How to group rows in a dataframe (just like the groupby clause in SQL)\n  * How to perform aggregations (sum/min/max/average) on a column/group of columns in a dataframe\n  * How to create calculated columns in a dataframe?\n  \n### Some good starting points : \n* [10 minutes to Pandas](http://pandas.pydata.org/pandas-docs/stable/10min.html)\n* If you like learning from videos, [here](https://www.youtube.com/playlist?list=PL5-da3qGB5ICCsgW1MxlZ0Hq8LL5U3u9y) is an engaging series",
      "metadata": {}
    },
    {
      "cell_type": "markdown",
      "source": "List down your understanding of the dataset",
      "metadata": {}
    },
    {
      "cell_type": "markdown",
      "source": "The data set describes the performance various batamen belonging to different teams in various matches and in different innings order at different venues. Also gives description about the number of boundaries, dismissal mode, number of balls faced, matche's date.",
      "metadata": {}
    },
    {
      "cell_type": "code",
      "source": "import pandas as pd\nimport numpy as np",
      "metadata": {
        "trusted": true
      },
      "execution_count": 2,
      "outputs": []
    },
    {
      "cell_type": "code",
      "source": "#what is the maximum score of IPL 2018 and who scored it?\ndf = pd.read_csv('iplfinal.csv',sep='|')\n\ndf.head()\n",
      "metadata": {
        "scrolled": true,
        "trusted": true
      },
      "execution_count": 13,
      "outputs": [
        {
          "execution_count": 13,
          "output_type": "execute_result",
          "data": {
            "text/html": "<div>\n<style scoped>\n    .dataframe tbody tr th:only-of-type {\n        vertical-align: middle;\n    }\n\n    .dataframe tbody tr th {\n        vertical-align: top;\n    }\n\n    .dataframe thead th {\n        text-align: right;\n    }\n</style>\n<table border=\"1\" class=\"dataframe\">\n  <thead>\n    <tr style=\"text-align: right;\">\n      <th></th>\n      <th>match_description</th>\n      <th>match_date</th>\n      <th>match_venue</th>\n      <th>match_location</th>\n      <th>match_result</th>\n      <th>team_name</th>\n      <th>innings_order</th>\n      <th>batsman_name</th>\n      <th>dismissal_mode</th>\n      <th>runs</th>\n      <th>balls</th>\n      <th>fours</th>\n      <th>sixes</th>\n    </tr>\n  </thead>\n  <tbody>\n    <tr>\n      <th>0</th>\n      <td>Mumbai Indians vs Chennai Super Kings, 1st Mat...</td>\n      <td>2018-04-07</td>\n      <td>Wankhede Stadium,</td>\n      <td>Mumbai</td>\n      <td>Chennai Super Kings won by 1 wkt</td>\n      <td>Mumbai Indians Innings</td>\n      <td>innings_1</td>\n      <td>Rohit Sharma (c)</td>\n      <td>c Rayudu b Watson</td>\n      <td>15</td>\n      <td>18</td>\n      <td>1</td>\n      <td>1</td>\n    </tr>\n    <tr>\n      <th>1</th>\n      <td>Mumbai Indians vs Chennai Super Kings, 1st Mat...</td>\n      <td>2018-04-07</td>\n      <td>Wankhede Stadium,</td>\n      <td>Mumbai</td>\n      <td>Chennai Super Kings won by 1 wkt</td>\n      <td>Mumbai Indians Innings</td>\n      <td>innings_1</td>\n      <td>Evin Lewis</td>\n      <td>lbw b D Chahar</td>\n      <td>0</td>\n      <td>2</td>\n      <td>0</td>\n      <td>0</td>\n    </tr>\n    <tr>\n      <th>2</th>\n      <td>Mumbai Indians vs Chennai Super Kings, 1st Mat...</td>\n      <td>2018-04-07</td>\n      <td>Wankhede Stadium,</td>\n      <td>Mumbai</td>\n      <td>Chennai Super Kings won by 1 wkt</td>\n      <td>Mumbai Indians Innings</td>\n      <td>innings_1</td>\n      <td>Ishan Kishan (wk)</td>\n      <td>c Mark Wood b Tahir</td>\n      <td>40</td>\n      <td>29</td>\n      <td>4</td>\n      <td>1</td>\n    </tr>\n    <tr>\n      <th>3</th>\n      <td>Mumbai Indians vs Chennai Super Kings, 1st Mat...</td>\n      <td>2018-04-07</td>\n      <td>Wankhede Stadium,</td>\n      <td>Mumbai</td>\n      <td>Chennai Super Kings won by 1 wkt</td>\n      <td>Mumbai Indians Innings</td>\n      <td>innings_1</td>\n      <td>Suryakumar Yadav</td>\n      <td>c Harbhajan b Watson</td>\n      <td>43</td>\n      <td>29</td>\n      <td>6</td>\n      <td>1</td>\n    </tr>\n    <tr>\n      <th>4</th>\n      <td>Mumbai Indians vs Chennai Super Kings, 1st Mat...</td>\n      <td>2018-04-07</td>\n      <td>Wankhede Stadium,</td>\n      <td>Mumbai</td>\n      <td>Chennai Super Kings won by 1 wkt</td>\n      <td>Mumbai Indians Innings</td>\n      <td>innings_1</td>\n      <td>Hardik Pandya</td>\n      <td>not out</td>\n      <td>22</td>\n      <td>20</td>\n      <td>2</td>\n      <td>0</td>\n    </tr>\n  </tbody>\n</table>\n</div>",
            "text/plain": "                                   match_description  match_date  \\\n0  Mumbai Indians vs Chennai Super Kings, 1st Mat...  2018-04-07   \n1  Mumbai Indians vs Chennai Super Kings, 1st Mat...  2018-04-07   \n2  Mumbai Indians vs Chennai Super Kings, 1st Mat...  2018-04-07   \n3  Mumbai Indians vs Chennai Super Kings, 1st Mat...  2018-04-07   \n4  Mumbai Indians vs Chennai Super Kings, 1st Mat...  2018-04-07   \n\n         match_venue match_location                      match_result  \\\n0  Wankhede Stadium,         Mumbai  Chennai Super Kings won by 1 wkt   \n1  Wankhede Stadium,         Mumbai  Chennai Super Kings won by 1 wkt   \n2  Wankhede Stadium,         Mumbai  Chennai Super Kings won by 1 wkt   \n3  Wankhede Stadium,         Mumbai  Chennai Super Kings won by 1 wkt   \n4  Wankhede Stadium,         Mumbai  Chennai Super Kings won by 1 wkt   \n\n                team_name innings_order       batsman_name  \\\n0  Mumbai Indians Innings     innings_1   Rohit Sharma (c)   \n1  Mumbai Indians Innings     innings_1         Evin Lewis   \n2  Mumbai Indians Innings     innings_1  Ishan Kishan (wk)   \n3  Mumbai Indians Innings     innings_1   Suryakumar Yadav   \n4  Mumbai Indians Innings     innings_1      Hardik Pandya   \n\n         dismissal_mode  runs  balls  fours  sixes  \n0     c Rayudu b Watson    15     18      1      1  \n1        lbw b D Chahar     0      2      0      0  \n2   c Mark Wood b Tahir    40     29      4      1  \n3  c Harbhajan b Watson    43     29      6      1  \n4               not out    22     20      2      0  "
          },
          "metadata": {}
        }
      ]
    },
    {
      "cell_type": "code",
      "source": "df.loc[df.runs,['batsman_name','runs']].max()",
      "metadata": {
        "trusted": true
      },
      "execution_count": 14,
      "outputs": [
        {
          "execution_count": 14,
          "output_type": "execute_result",
          "data": {
            "text/plain": "batsman_name    Yuvraj Singh\nruns                      68\ndtype: object"
          },
          "metadata": {}
        }
      ]
    },
    {
      "cell_type": "code",
      "source": "df.shape",
      "metadata": {
        "trusted": true
      },
      "execution_count": 17,
      "outputs": [
        {
          "execution_count": 17,
          "output_type": "execute_result",
          "data": {
            "text/plain": "(963, 13)"
          },
          "metadata": {}
        }
      ]
    },
    {
      "cell_type": "code",
      "source": "#list down the century makers, their scores and their strike rates\n\ndf['strikerate']=(df.runs/df.balls).round(2)\n\ndf.loc[df.runs>=100,['batsman_name','runs','balls','strikerate']].sort_values(by='runs',ascending=0)\n\n",
      "metadata": {
        "trusted": true
      },
      "execution_count": 19,
      "outputs": [
        {
          "execution_count": 19,
          "output_type": "execute_result",
          "data": {
            "text/html": "<div>\n<style scoped>\n    .dataframe tbody tr th:only-of-type {\n        vertical-align: middle;\n    }\n\n    .dataframe tbody tr th {\n        vertical-align: top;\n    }\n\n    .dataframe thead th {\n        text-align: right;\n    }\n</style>\n<table border=\"1\" class=\"dataframe\">\n  <thead>\n    <tr style=\"text-align: right;\">\n      <th></th>\n      <th>batsman_name</th>\n      <th>runs</th>\n      <th>balls</th>\n      <th>strikerate</th>\n    </tr>\n  </thead>\n  <tbody>\n    <tr>\n      <th>680</th>\n      <td>Rishabh Pant (wk)</td>\n      <td>128</td>\n      <td>63</td>\n      <td>2.03</td>\n    </tr>\n    <tr>\n      <th>959</th>\n      <td>Shane Watson</td>\n      <td>117</td>\n      <td>57</td>\n      <td>2.05</td>\n    </tr>\n    <tr>\n      <th>285</th>\n      <td>Shane Watson</td>\n      <td>106</td>\n      <td>57</td>\n      <td>1.86</td>\n    </tr>\n    <tr>\n      <th>274</th>\n      <td>Chris Gayle</td>\n      <td>104</td>\n      <td>63</td>\n      <td>1.65</td>\n    </tr>\n    <tr>\n      <th>739</th>\n      <td>Ambati Rayudu</td>\n      <td>100</td>\n      <td>62</td>\n      <td>1.61</td>\n    </tr>\n  </tbody>\n</table>\n</div>",
            "text/plain": "          batsman_name  runs  balls  strikerate\n680  Rishabh Pant (wk)   128     63        2.03\n959       Shane Watson   117     57        2.05\n285       Shane Watson   106     57        1.86\n274        Chris Gayle   104     63        1.65\n739      Ambati Rayudu   100     62        1.61"
          },
          "metadata": {}
        }
      ]
    },
    {
      "cell_type": "code",
      "source": "#list down the top 5 most consistent batsmen\ndf2=df.groupby('batsman_name').runs.std().sort_values(ascending=True)\ndf2.head()",
      "metadata": {
        "trusted": true
      },
      "execution_count": 6,
      "outputs": [
        {
          "execution_count": 6,
          "output_type": "execute_result",
          "data": {
            "text/plain": "batsman_name\nVinay Kumar        0.000000\nDhawal Kulkarni    0.000000\nSandeep Sharma     0.000000\nUmesh Yadav        0.547723\nLiam Plunkett      0.707107\nName: runs, dtype: float64"
          },
          "metadata": {}
        }
      ]
    },
    {
      "cell_type": "code",
      "source": "#list down the top 5 most consistent batsmen\ndf1=df.groupby('batsman_name').runs.std().sort_values(ascending=False)\ncon1=df1.dropna().sort_values(ascending=True)\ncon1.head()",
      "metadata": {
        "trusted": true
      },
      "execution_count": 21,
      "outputs": [
        {
          "execution_count": 21,
          "output_type": "execute_result",
          "data": {
            "text/plain": "batsman_name\nVinay Kumar          0.000000\nDhawal Kulkarni      0.000000\nSandeep Sharma       0.000000\nUmesh Yadav          0.547723\nMustafizur Rahman    0.707107\nName: runs, dtype: float64"
          },
          "metadata": {}
        }
      ]
    },
    {
      "cell_type": "code",
      "source": "# what are the total number of duck dismissals?\ndf0=df[(df.runs==0)&(df.dismissal_mode!='not out')]\ndf_ducks=df0.loc[df0.runs==0,['batsman_name','dismissal_mode','runs']].sort_values(by='runs')\nprint('Total number of duck dismisals:',df_ducks.runs.count())\nprint(\"Below id the list of all the duck dismissals:\")\ndf_ducks.head()\n",
      "metadata": {
        "trusted": true
      },
      "execution_count": 22,
      "outputs": [
        {
          "text": "Total number of duck dismisals: 68\nBelow id the list of all the duck dismissals:\n",
          "name": "stdout",
          "output_type": "stream"
        },
        {
          "execution_count": 22,
          "output_type": "execute_result",
          "data": {
            "text/html": "<div>\n<style scoped>\n    .dataframe tbody tr th:only-of-type {\n        vertical-align: middle;\n    }\n\n    .dataframe tbody tr th {\n        vertical-align: top;\n    }\n\n    .dataframe thead th {\n        text-align: right;\n    }\n</style>\n<table border=\"1\" class=\"dataframe\">\n  <thead>\n    <tr style=\"text-align: right;\">\n      <th></th>\n      <th>batsman_name</th>\n      <th>dismissal_mode</th>\n      <th>runs</th>\n    </tr>\n  </thead>\n  <tbody>\n    <tr>\n      <th>1</th>\n      <td>Evin Lewis</td>\n      <td>lbw b D Chahar</td>\n      <td>0</td>\n    </tr>\n    <tr>\n      <th>437</th>\n      <td>Rishabh Pant (wk)</td>\n      <td>c Karthik b A Russell</td>\n      <td>0</td>\n    </tr>\n    <tr>\n      <th>447</th>\n      <td>Shivam Mavi</td>\n      <td>b A Mishra</td>\n      <td>0</td>\n    </tr>\n    <tr>\n      <th>455</th>\n      <td>Dwayne Bravo</td>\n      <td>c Markande b McClenaghan</td>\n      <td>0</td>\n    </tr>\n    <tr>\n      <th>474</th>\n      <td>Ben Stokes</td>\n      <td>b Y Pathan</td>\n      <td>0</td>\n    </tr>\n  </tbody>\n</table>\n</div>",
            "text/plain": "          batsman_name            dismissal_mode  runs\n1           Evin Lewis            lbw b D Chahar     0\n437  Rishabh Pant (wk)     c Karthik b A Russell     0\n447        Shivam Mavi                b A Mishra     0\n455       Dwayne Bravo  c Markande b McClenaghan     0\n474         Ben Stokes                b Y Pathan     0"
          },
          "metadata": {}
        }
      ]
    },
    {
      "cell_type": "code",
      "source": "# list top 5 players by contribution of boundaries to total scores\ndf['boundary_runs'] = df['sixes']*6 + df['fours']*4\ngrp = df.groupby('batsman_name')\ndf1 = grp['runs','boundary_runs'].agg({'runs':np.sum,'boundary_runs':np.sum})\ndf1\ndf1['boundary_contrib'] = (df1.boundary_runs/df1.runs)*100\ndf1.sort_values(by='runs',ascending=0).head()",
      "metadata": {
        "trusted": true
      },
      "execution_count": 23,
      "outputs": [
        {
          "execution_count": 23,
          "output_type": "execute_result",
          "data": {
            "text/html": "<div>\n<style scoped>\n    .dataframe tbody tr th:only-of-type {\n        vertical-align: middle;\n    }\n\n    .dataframe tbody tr th {\n        vertical-align: top;\n    }\n\n    .dataframe thead th {\n        text-align: right;\n    }\n</style>\n<table border=\"1\" class=\"dataframe\">\n  <thead>\n    <tr style=\"text-align: right;\">\n      <th></th>\n      <th>runs</th>\n      <th>boundary_runs</th>\n      <th>boundary_contrib</th>\n    </tr>\n    <tr>\n      <th>batsman_name</th>\n      <th></th>\n      <th></th>\n      <th></th>\n    </tr>\n  </thead>\n  <tbody>\n    <tr>\n      <th>Kane Williamson (c)</th>\n      <td>735</td>\n      <td>420</td>\n      <td>57.142857</td>\n    </tr>\n    <tr>\n      <th>Rishabh Pant (wk)</th>\n      <td>712</td>\n      <td>460</td>\n      <td>64.606742</td>\n    </tr>\n    <tr>\n      <th>Lokesh Rahul (wk)</th>\n      <td>710</td>\n      <td>428</td>\n      <td>60.281690</td>\n    </tr>\n    <tr>\n      <th>Ambati Rayudu</th>\n      <td>602</td>\n      <td>416</td>\n      <td>69.102990</td>\n    </tr>\n    <tr>\n      <th>Virat Kohli (c)</th>\n      <td>561</td>\n      <td>326</td>\n      <td>58.110517</td>\n    </tr>\n  </tbody>\n</table>\n</div>",
            "text/plain": "                     runs  boundary_runs  boundary_contrib\nbatsman_name                                              \nKane Williamson (c)   735            420         57.142857\nRishabh Pant (wk)     712            460         64.606742\nLokesh Rahul (wk)     710            428         60.281690\nAmbati Rayudu         602            416         69.102990\nVirat Kohli (c)       561            326         58.110517"
          },
          "metadata": {}
        }
      ]
    },
    {
      "cell_type": "code",
      "source": "# which location is most batsman friendly\n#grp_location = df.groupby('match_location')\ndf1 = df.groupby('match_location')['runs','boundary_runs'].apply(np.sum)\ndf1['match_count']=df.groupby('match_location').match_description.nunique()\ndf1\ndf1['runs_per_match']=(df1.runs/df1.match_count).round()\ndf1['boundary_contrib'] = (df1.boundary_runs/df1.runs).round(2)\n\n\ndf1.head()\n",
      "metadata": {
        "trusted": true
      },
      "execution_count": 24,
      "outputs": [
        {
          "execution_count": 24,
          "output_type": "execute_result",
          "data": {
            "text/html": "<div>\n<style scoped>\n    .dataframe tbody tr th:only-of-type {\n        vertical-align: middle;\n    }\n\n    .dataframe tbody tr th {\n        vertical-align: top;\n    }\n\n    .dataframe thead th {\n        text-align: right;\n    }\n</style>\n<table border=\"1\" class=\"dataframe\">\n  <thead>\n    <tr style=\"text-align: right;\">\n      <th></th>\n      <th>runs</th>\n      <th>boundary_runs</th>\n      <th>match_count</th>\n      <th>runs_per_match</th>\n      <th>boundary_contrib</th>\n    </tr>\n    <tr>\n      <th>match_location</th>\n      <th></th>\n      <th></th>\n      <th></th>\n      <th></th>\n      <th></th>\n    </tr>\n  </thead>\n  <tbody>\n    <tr>\n      <th>Bengaluru</th>\n      <td>2463</td>\n      <td>1526</td>\n      <td>7</td>\n      <td>352.0</td>\n      <td>0.62</td>\n    </tr>\n    <tr>\n      <th>Chennai</th>\n      <td>395</td>\n      <td>266</td>\n      <td>1</td>\n      <td>395.0</td>\n      <td>0.67</td>\n    </tr>\n    <tr>\n      <th>Delhi</th>\n      <td>2285</td>\n      <td>1394</td>\n      <td>7</td>\n      <td>326.0</td>\n      <td>0.61</td>\n    </tr>\n    <tr>\n      <th>Hyderabad</th>\n      <td>2034</td>\n      <td>1096</td>\n      <td>7</td>\n      <td>291.0</td>\n      <td>0.54</td>\n    </tr>\n    <tr>\n      <th>Indore</th>\n      <td>1248</td>\n      <td>826</td>\n      <td>4</td>\n      <td>312.0</td>\n      <td>0.66</td>\n    </tr>\n  </tbody>\n</table>\n</div>",
            "text/plain": "                runs  boundary_runs  match_count  runs_per_match  \\\nmatch_location                                                     \nBengaluru       2463           1526            7           352.0   \nChennai          395            266            1           395.0   \nDelhi           2285           1394            7           326.0   \nHyderabad       2034           1096            7           291.0   \nIndore          1248            826            4           312.0   \n\n                boundary_contrib  \nmatch_location                    \nBengaluru                   0.62  \nChennai                     0.67  \nDelhi                       0.61  \nHyderabad                   0.54  \nIndore                      0.66  "
          },
          "metadata": {}
        }
      ]
    }
  ]
}